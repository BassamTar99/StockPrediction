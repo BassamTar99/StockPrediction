{
  "cells": [
    {
      "cell_type": "markdown",
      "metadata": {
        "id": "view-in-github",
        "colab_type": "text"
      },
      "source": [
        "<a href=\"https://colab.research.google.com/github/BassamTar99/StockPrediction/blob/LSTM_Model/Automated_LSTM.ipynb\" target=\"_parent\"><img src=\"https://colab.research.google.com/assets/colab-badge.svg\" alt=\"Open In Colab\"/></a>"
      ]
    },
    {
      "cell_type": "code",
      "execution_count": 16,
      "metadata": {
        "colab": {
          "base_uri": "https://localhost:8080/"
        },
        "collapsed": true,
        "id": "EWcoL86cTyfE",
        "outputId": "93cda6e5-bfc0-45ef-f9e5-ae8938f9bcb7"
      },
      "outputs": [
        {
          "output_type": "stream",
          "name": "stdout",
          "text": [
            "Requirement already satisfied: yfinance in /usr/local/lib/python3.11/dist-packages (0.2.55)\n",
            "Requirement already satisfied: matplotlib in /usr/local/lib/python3.11/dist-packages (3.10.0)\n",
            "Requirement already satisfied: tensorflow in /usr/local/lib/python3.11/dist-packages (2.18.0)\n",
            "Requirement already satisfied: keras-tuner in /usr/local/lib/python3.11/dist-packages (1.4.7)\n",
            "Requirement already satisfied: pandas>=1.3.0 in /usr/local/lib/python3.11/dist-packages (from yfinance) (2.2.2)\n",
            "Requirement already satisfied: numpy>=1.16.5 in /usr/local/lib/python3.11/dist-packages (from yfinance) (2.0.2)\n",
            "Requirement already satisfied: requests>=2.31 in /usr/local/lib/python3.11/dist-packages (from yfinance) (2.32.3)\n",
            "Requirement already satisfied: multitasking>=0.0.7 in /usr/local/lib/python3.11/dist-packages (from yfinance) (0.0.11)\n",
            "Requirement already satisfied: platformdirs>=2.0.0 in /usr/local/lib/python3.11/dist-packages (from yfinance) (4.3.7)\n",
            "Requirement already satisfied: pytz>=2022.5 in /usr/local/lib/python3.11/dist-packages (from yfinance) (2025.2)\n",
            "Requirement already satisfied: frozendict>=2.3.4 in /usr/local/lib/python3.11/dist-packages (from yfinance) (2.4.6)\n",
            "Requirement already satisfied: peewee>=3.16.2 in /usr/local/lib/python3.11/dist-packages (from yfinance) (3.17.9)\n",
            "Requirement already satisfied: beautifulsoup4>=4.11.1 in /usr/local/lib/python3.11/dist-packages (from yfinance) (4.13.4)\n",
            "Requirement already satisfied: contourpy>=1.0.1 in /usr/local/lib/python3.11/dist-packages (from matplotlib) (1.3.2)\n",
            "Requirement already satisfied: cycler>=0.10 in /usr/local/lib/python3.11/dist-packages (from matplotlib) (0.12.1)\n",
            "Requirement already satisfied: fonttools>=4.22.0 in /usr/local/lib/python3.11/dist-packages (from matplotlib) (4.57.0)\n",
            "Requirement already satisfied: kiwisolver>=1.3.1 in /usr/local/lib/python3.11/dist-packages (from matplotlib) (1.4.8)\n",
            "Requirement already satisfied: packaging>=20.0 in /usr/local/lib/python3.11/dist-packages (from matplotlib) (24.2)\n",
            "Requirement already satisfied: pillow>=8 in /usr/local/lib/python3.11/dist-packages (from matplotlib) (11.1.0)\n",
            "Requirement already satisfied: pyparsing>=2.3.1 in /usr/local/lib/python3.11/dist-packages (from matplotlib) (3.2.3)\n",
            "Requirement already satisfied: python-dateutil>=2.7 in /usr/local/lib/python3.11/dist-packages (from matplotlib) (2.8.2)\n",
            "Requirement already satisfied: absl-py>=1.0.0 in /usr/local/lib/python3.11/dist-packages (from tensorflow) (1.4.0)\n",
            "Requirement already satisfied: astunparse>=1.6.0 in /usr/local/lib/python3.11/dist-packages (from tensorflow) (1.6.3)\n",
            "Requirement already satisfied: flatbuffers>=24.3.25 in /usr/local/lib/python3.11/dist-packages (from tensorflow) (25.2.10)\n",
            "Requirement already satisfied: gast!=0.5.0,!=0.5.1,!=0.5.2,>=0.2.1 in /usr/local/lib/python3.11/dist-packages (from tensorflow) (0.6.0)\n",
            "Requirement already satisfied: google-pasta>=0.1.1 in /usr/local/lib/python3.11/dist-packages (from tensorflow) (0.2.0)\n",
            "Requirement already satisfied: libclang>=13.0.0 in /usr/local/lib/python3.11/dist-packages (from tensorflow) (18.1.1)\n",
            "Requirement already satisfied: opt-einsum>=2.3.2 in /usr/local/lib/python3.11/dist-packages (from tensorflow) (3.4.0)\n",
            "Requirement already satisfied: protobuf!=4.21.0,!=4.21.1,!=4.21.2,!=4.21.3,!=4.21.4,!=4.21.5,<6.0.0dev,>=3.20.3 in /usr/local/lib/python3.11/dist-packages (from tensorflow) (5.29.4)\n",
            "Requirement already satisfied: setuptools in /usr/local/lib/python3.11/dist-packages (from tensorflow) (75.2.0)\n",
            "Requirement already satisfied: six>=1.12.0 in /usr/local/lib/python3.11/dist-packages (from tensorflow) (1.17.0)\n",
            "Requirement already satisfied: termcolor>=1.1.0 in /usr/local/lib/python3.11/dist-packages (from tensorflow) (3.0.1)\n",
            "Requirement already satisfied: typing-extensions>=3.6.6 in /usr/local/lib/python3.11/dist-packages (from tensorflow) (4.13.2)\n",
            "Requirement already satisfied: wrapt>=1.11.0 in /usr/local/lib/python3.11/dist-packages (from tensorflow) (1.17.2)\n",
            "Requirement already satisfied: grpcio<2.0,>=1.24.3 in /usr/local/lib/python3.11/dist-packages (from tensorflow) (1.71.0)\n",
            "Requirement already satisfied: tensorboard<2.19,>=2.18 in /usr/local/lib/python3.11/dist-packages (from tensorflow) (2.18.0)\n",
            "Requirement already satisfied: keras>=3.5.0 in /usr/local/lib/python3.11/dist-packages (from tensorflow) (3.8.0)\n",
            "Requirement already satisfied: h5py>=3.11.0 in /usr/local/lib/python3.11/dist-packages (from tensorflow) (3.13.0)\n",
            "Requirement already satisfied: ml-dtypes<0.5.0,>=0.4.0 in /usr/local/lib/python3.11/dist-packages (from tensorflow) (0.4.1)\n",
            "Requirement already satisfied: tensorflow-io-gcs-filesystem>=0.23.1 in /usr/local/lib/python3.11/dist-packages (from tensorflow) (0.37.1)\n",
            "Requirement already satisfied: kt-legacy in /usr/local/lib/python3.11/dist-packages (from keras-tuner) (1.0.5)\n",
            "Requirement already satisfied: wheel<1.0,>=0.23.0 in /usr/local/lib/python3.11/dist-packages (from astunparse>=1.6.0->tensorflow) (0.45.1)\n",
            "Requirement already satisfied: soupsieve>1.2 in /usr/local/lib/python3.11/dist-packages (from beautifulsoup4>=4.11.1->yfinance) (2.7)\n",
            "Requirement already satisfied: rich in /usr/local/lib/python3.11/dist-packages (from keras>=3.5.0->tensorflow) (13.9.4)\n",
            "Requirement already satisfied: namex in /usr/local/lib/python3.11/dist-packages (from keras>=3.5.0->tensorflow) (0.0.9)\n",
            "Requirement already satisfied: optree in /usr/local/lib/python3.11/dist-packages (from keras>=3.5.0->tensorflow) (0.15.0)\n",
            "Requirement already satisfied: tzdata>=2022.7 in /usr/local/lib/python3.11/dist-packages (from pandas>=1.3.0->yfinance) (2025.2)\n",
            "Requirement already satisfied: charset-normalizer<4,>=2 in /usr/local/lib/python3.11/dist-packages (from requests>=2.31->yfinance) (3.4.1)\n",
            "Requirement already satisfied: idna<4,>=2.5 in /usr/local/lib/python3.11/dist-packages (from requests>=2.31->yfinance) (3.10)\n",
            "Requirement already satisfied: urllib3<3,>=1.21.1 in /usr/local/lib/python3.11/dist-packages (from requests>=2.31->yfinance) (2.3.0)\n",
            "Requirement already satisfied: certifi>=2017.4.17 in /usr/local/lib/python3.11/dist-packages (from requests>=2.31->yfinance) (2025.1.31)\n",
            "Requirement already satisfied: markdown>=2.6.8 in /usr/local/lib/python3.11/dist-packages (from tensorboard<2.19,>=2.18->tensorflow) (3.8)\n",
            "Requirement already satisfied: tensorboard-data-server<0.8.0,>=0.7.0 in /usr/local/lib/python3.11/dist-packages (from tensorboard<2.19,>=2.18->tensorflow) (0.7.2)\n",
            "Requirement already satisfied: werkzeug>=1.0.1 in /usr/local/lib/python3.11/dist-packages (from tensorboard<2.19,>=2.18->tensorflow) (3.1.3)\n",
            "Requirement already satisfied: MarkupSafe>=2.1.1 in /usr/local/lib/python3.11/dist-packages (from werkzeug>=1.0.1->tensorboard<2.19,>=2.18->tensorflow) (3.0.2)\n",
            "Requirement already satisfied: markdown-it-py>=2.2.0 in /usr/local/lib/python3.11/dist-packages (from rich->keras>=3.5.0->tensorflow) (3.0.0)\n",
            "Requirement already satisfied: pygments<3.0.0,>=2.13.0 in /usr/local/lib/python3.11/dist-packages (from rich->keras>=3.5.0->tensorflow) (2.18.0)\n",
            "Requirement already satisfied: mdurl~=0.1 in /usr/local/lib/python3.11/dist-packages (from markdown-it-py>=2.2.0->rich->keras>=3.5.0->tensorflow) (0.1.2)\n"
          ]
        }
      ],
      "source": [
        "#@title Cell 1: Install Dependencies\n",
        "!pip install yfinance matplotlib tensorflow keras-tuner\n"
      ]
    },
    {
      "cell_type": "code",
      "execution_count": 17,
      "metadata": {
        "id": "AXLWhmsCh29z"
      },
      "outputs": [],
      "source": [
        "# Cell 2: Imports & Reproducibility\n",
        "import yfinance as yf\n",
        "import pandas as pd\n",
        "import numpy as np\n",
        "import matplotlib.pyplot as plt\n",
        "\n",
        "from sklearn.preprocessing import MinMaxScaler\n",
        "from sklearn.metrics import mean_squared_error\n",
        "\n",
        "import tensorflow as tf\n",
        "from tensorflow.keras.models import Sequential\n",
        "from tensorflow.keras.layers import LSTM, Dense, Dropout\n",
        "from tensorflow.keras.optimizers import SGD, Adam, RMSprop\n",
        "from tensorflow.keras.callbacks import EarlyStopping, ReduceLROnPlateau\n",
        "\n",
        "from kerastuner.tuners import RandomSearch\n",
        "\n",
        "# Fix seeds\n",
        "SEED = 42\n",
        "np.random.seed(SEED)\n",
        "tf.random.set_seed(SEED)\n"
      ]
    },
    {
      "cell_type": "code",
      "execution_count": 18,
      "metadata": {
        "colab": {
          "base_uri": "https://localhost:8080/",
          "height": 321
        },
        "id": "0N3rjs7Kh9OI",
        "outputId": "0726c609-01d6-47ff-a1fa-8daf7de10b6c"
      },
      "outputs": [
        {
          "name": "stdout",
          "output_type": "stream",
          "text": [
            "Enter the stock ticker (e.g. AAPL, TSLA): AAPL\n"
          ]
        },
        {
          "output_type": "stream",
          "name": "stderr",
          "text": [
            "\r[*********************100%***********************]  1 of 1 completed"
          ]
        },
        {
          "output_type": "stream",
          "name": "stdout",
          "text": [
            "Downloaded 3849 rows for AAPL\n"
          ]
        },
        {
          "output_type": "stream",
          "name": "stderr",
          "text": [
            "\n"
          ]
        },
        {
          "output_type": "execute_result",
          "data": {
            "text/plain": [
              "Price          Close      High       Low      Open     Volume\n",
              "Ticker          AAPL      AAPL      AAPL      AAPL       AAPL\n",
              "Date                                                         \n",
              "2010-01-04  6.440332  6.455078  6.391279  6.422878  493729600\n",
              "2010-01-05  6.451466  6.487879  6.417460  6.458087  601904800\n",
              "2010-01-06  6.348846  6.477045  6.342225  6.451465  552160000\n",
              "2010-01-07  6.337109  6.379843  6.291066  6.372319  477131200\n",
              "2010-01-08  6.379241  6.379843  6.291368  6.328683  447610800"
            ],
            "text/html": [
              "\n",
              "  <div id=\"df-4d412f4d-7e94-4e2a-92bd-db52d7609c24\" class=\"colab-df-container\">\n",
              "    <div>\n",
              "<style scoped>\n",
              "    .dataframe tbody tr th:only-of-type {\n",
              "        vertical-align: middle;\n",
              "    }\n",
              "\n",
              "    .dataframe tbody tr th {\n",
              "        vertical-align: top;\n",
              "    }\n",
              "\n",
              "    .dataframe thead tr th {\n",
              "        text-align: left;\n",
              "    }\n",
              "\n",
              "    .dataframe thead tr:last-of-type th {\n",
              "        text-align: right;\n",
              "    }\n",
              "</style>\n",
              "<table border=\"1\" class=\"dataframe\">\n",
              "  <thead>\n",
              "    <tr>\n",
              "      <th>Price</th>\n",
              "      <th>Close</th>\n",
              "      <th>High</th>\n",
              "      <th>Low</th>\n",
              "      <th>Open</th>\n",
              "      <th>Volume</th>\n",
              "    </tr>\n",
              "    <tr>\n",
              "      <th>Ticker</th>\n",
              "      <th>AAPL</th>\n",
              "      <th>AAPL</th>\n",
              "      <th>AAPL</th>\n",
              "      <th>AAPL</th>\n",
              "      <th>AAPL</th>\n",
              "    </tr>\n",
              "    <tr>\n",
              "      <th>Date</th>\n",
              "      <th></th>\n",
              "      <th></th>\n",
              "      <th></th>\n",
              "      <th></th>\n",
              "      <th></th>\n",
              "    </tr>\n",
              "  </thead>\n",
              "  <tbody>\n",
              "    <tr>\n",
              "      <th>2010-01-04</th>\n",
              "      <td>6.440332</td>\n",
              "      <td>6.455078</td>\n",
              "      <td>6.391279</td>\n",
              "      <td>6.422878</td>\n",
              "      <td>493729600</td>\n",
              "    </tr>\n",
              "    <tr>\n",
              "      <th>2010-01-05</th>\n",
              "      <td>6.451466</td>\n",
              "      <td>6.487879</td>\n",
              "      <td>6.417460</td>\n",
              "      <td>6.458087</td>\n",
              "      <td>601904800</td>\n",
              "    </tr>\n",
              "    <tr>\n",
              "      <th>2010-01-06</th>\n",
              "      <td>6.348846</td>\n",
              "      <td>6.477045</td>\n",
              "      <td>6.342225</td>\n",
              "      <td>6.451465</td>\n",
              "      <td>552160000</td>\n",
              "    </tr>\n",
              "    <tr>\n",
              "      <th>2010-01-07</th>\n",
              "      <td>6.337109</td>\n",
              "      <td>6.379843</td>\n",
              "      <td>6.291066</td>\n",
              "      <td>6.372319</td>\n",
              "      <td>477131200</td>\n",
              "    </tr>\n",
              "    <tr>\n",
              "      <th>2010-01-08</th>\n",
              "      <td>6.379241</td>\n",
              "      <td>6.379843</td>\n",
              "      <td>6.291368</td>\n",
              "      <td>6.328683</td>\n",
              "      <td>447610800</td>\n",
              "    </tr>\n",
              "  </tbody>\n",
              "</table>\n",
              "</div>\n",
              "    <div class=\"colab-df-buttons\">\n",
              "\n",
              "  <div class=\"colab-df-container\">\n",
              "    <button class=\"colab-df-convert\" onclick=\"convertToInteractive('df-4d412f4d-7e94-4e2a-92bd-db52d7609c24')\"\n",
              "            title=\"Convert this dataframe to an interactive table.\"\n",
              "            style=\"display:none;\">\n",
              "\n",
              "  <svg xmlns=\"http://www.w3.org/2000/svg\" height=\"24px\" viewBox=\"0 -960 960 960\">\n",
              "    <path d=\"M120-120v-720h720v720H120Zm60-500h600v-160H180v160Zm220 220h160v-160H400v160Zm0 220h160v-160H400v160ZM180-400h160v-160H180v160Zm440 0h160v-160H620v160ZM180-180h160v-160H180v160Zm440 0h160v-160H620v160Z\"/>\n",
              "  </svg>\n",
              "    </button>\n",
              "\n",
              "  <style>\n",
              "    .colab-df-container {\n",
              "      display:flex;\n",
              "      gap: 12px;\n",
              "    }\n",
              "\n",
              "    .colab-df-convert {\n",
              "      background-color: #E8F0FE;\n",
              "      border: none;\n",
              "      border-radius: 50%;\n",
              "      cursor: pointer;\n",
              "      display: none;\n",
              "      fill: #1967D2;\n",
              "      height: 32px;\n",
              "      padding: 0 0 0 0;\n",
              "      width: 32px;\n",
              "    }\n",
              "\n",
              "    .colab-df-convert:hover {\n",
              "      background-color: #E2EBFA;\n",
              "      box-shadow: 0px 1px 2px rgba(60, 64, 67, 0.3), 0px 1px 3px 1px rgba(60, 64, 67, 0.15);\n",
              "      fill: #174EA6;\n",
              "    }\n",
              "\n",
              "    .colab-df-buttons div {\n",
              "      margin-bottom: 4px;\n",
              "    }\n",
              "\n",
              "    [theme=dark] .colab-df-convert {\n",
              "      background-color: #3B4455;\n",
              "      fill: #D2E3FC;\n",
              "    }\n",
              "\n",
              "    [theme=dark] .colab-df-convert:hover {\n",
              "      background-color: #434B5C;\n",
              "      box-shadow: 0px 1px 3px 1px rgba(0, 0, 0, 0.15);\n",
              "      filter: drop-shadow(0px 1px 2px rgba(0, 0, 0, 0.3));\n",
              "      fill: #FFFFFF;\n",
              "    }\n",
              "  </style>\n",
              "\n",
              "    <script>\n",
              "      const buttonEl =\n",
              "        document.querySelector('#df-4d412f4d-7e94-4e2a-92bd-db52d7609c24 button.colab-df-convert');\n",
              "      buttonEl.style.display =\n",
              "        google.colab.kernel.accessAllowed ? 'block' : 'none';\n",
              "\n",
              "      async function convertToInteractive(key) {\n",
              "        const element = document.querySelector('#df-4d412f4d-7e94-4e2a-92bd-db52d7609c24');\n",
              "        const dataTable =\n",
              "          await google.colab.kernel.invokeFunction('convertToInteractive',\n",
              "                                                    [key], {});\n",
              "        if (!dataTable) return;\n",
              "\n",
              "        const docLinkHtml = 'Like what you see? Visit the ' +\n",
              "          '<a target=\"_blank\" href=https://colab.research.google.com/notebooks/data_table.ipynb>data table notebook</a>'\n",
              "          + ' to learn more about interactive tables.';\n",
              "        element.innerHTML = '';\n",
              "        dataTable['output_type'] = 'display_data';\n",
              "        await google.colab.output.renderOutput(dataTable, element);\n",
              "        const docLink = document.createElement('div');\n",
              "        docLink.innerHTML = docLinkHtml;\n",
              "        element.appendChild(docLink);\n",
              "      }\n",
              "    </script>\n",
              "  </div>\n",
              "\n",
              "\n",
              "<div id=\"df-5074644c-57c9-41f4-b23a-93a19438c377\">\n",
              "  <button class=\"colab-df-quickchart\" onclick=\"quickchart('df-5074644c-57c9-41f4-b23a-93a19438c377')\"\n",
              "            title=\"Suggest charts\"\n",
              "            style=\"display:none;\">\n",
              "\n",
              "<svg xmlns=\"http://www.w3.org/2000/svg\" height=\"24px\"viewBox=\"0 0 24 24\"\n",
              "     width=\"24px\">\n",
              "    <g>\n",
              "        <path d=\"M19 3H5c-1.1 0-2 .9-2 2v14c0 1.1.9 2 2 2h14c1.1 0 2-.9 2-2V5c0-1.1-.9-2-2-2zM9 17H7v-7h2v7zm4 0h-2V7h2v10zm4 0h-2v-4h2v4z\"/>\n",
              "    </g>\n",
              "</svg>\n",
              "  </button>\n",
              "\n",
              "<style>\n",
              "  .colab-df-quickchart {\n",
              "      --bg-color: #E8F0FE;\n",
              "      --fill-color: #1967D2;\n",
              "      --hover-bg-color: #E2EBFA;\n",
              "      --hover-fill-color: #174EA6;\n",
              "      --disabled-fill-color: #AAA;\n",
              "      --disabled-bg-color: #DDD;\n",
              "  }\n",
              "\n",
              "  [theme=dark] .colab-df-quickchart {\n",
              "      --bg-color: #3B4455;\n",
              "      --fill-color: #D2E3FC;\n",
              "      --hover-bg-color: #434B5C;\n",
              "      --hover-fill-color: #FFFFFF;\n",
              "      --disabled-bg-color: #3B4455;\n",
              "      --disabled-fill-color: #666;\n",
              "  }\n",
              "\n",
              "  .colab-df-quickchart {\n",
              "    background-color: var(--bg-color);\n",
              "    border: none;\n",
              "    border-radius: 50%;\n",
              "    cursor: pointer;\n",
              "    display: none;\n",
              "    fill: var(--fill-color);\n",
              "    height: 32px;\n",
              "    padding: 0;\n",
              "    width: 32px;\n",
              "  }\n",
              "\n",
              "  .colab-df-quickchart:hover {\n",
              "    background-color: var(--hover-bg-color);\n",
              "    box-shadow: 0 1px 2px rgba(60, 64, 67, 0.3), 0 1px 3px 1px rgba(60, 64, 67, 0.15);\n",
              "    fill: var(--button-hover-fill-color);\n",
              "  }\n",
              "\n",
              "  .colab-df-quickchart-complete:disabled,\n",
              "  .colab-df-quickchart-complete:disabled:hover {\n",
              "    background-color: var(--disabled-bg-color);\n",
              "    fill: var(--disabled-fill-color);\n",
              "    box-shadow: none;\n",
              "  }\n",
              "\n",
              "  .colab-df-spinner {\n",
              "    border: 2px solid var(--fill-color);\n",
              "    border-color: transparent;\n",
              "    border-bottom-color: var(--fill-color);\n",
              "    animation:\n",
              "      spin 1s steps(1) infinite;\n",
              "  }\n",
              "\n",
              "  @keyframes spin {\n",
              "    0% {\n",
              "      border-color: transparent;\n",
              "      border-bottom-color: var(--fill-color);\n",
              "      border-left-color: var(--fill-color);\n",
              "    }\n",
              "    20% {\n",
              "      border-color: transparent;\n",
              "      border-left-color: var(--fill-color);\n",
              "      border-top-color: var(--fill-color);\n",
              "    }\n",
              "    30% {\n",
              "      border-color: transparent;\n",
              "      border-left-color: var(--fill-color);\n",
              "      border-top-color: var(--fill-color);\n",
              "      border-right-color: var(--fill-color);\n",
              "    }\n",
              "    40% {\n",
              "      border-color: transparent;\n",
              "      border-right-color: var(--fill-color);\n",
              "      border-top-color: var(--fill-color);\n",
              "    }\n",
              "    60% {\n",
              "      border-color: transparent;\n",
              "      border-right-color: var(--fill-color);\n",
              "    }\n",
              "    80% {\n",
              "      border-color: transparent;\n",
              "      border-right-color: var(--fill-color);\n",
              "      border-bottom-color: var(--fill-color);\n",
              "    }\n",
              "    90% {\n",
              "      border-color: transparent;\n",
              "      border-bottom-color: var(--fill-color);\n",
              "    }\n",
              "  }\n",
              "</style>\n",
              "\n",
              "  <script>\n",
              "    async function quickchart(key) {\n",
              "      const quickchartButtonEl =\n",
              "        document.querySelector('#' + key + ' button');\n",
              "      quickchartButtonEl.disabled = true;  // To prevent multiple clicks.\n",
              "      quickchartButtonEl.classList.add('colab-df-spinner');\n",
              "      try {\n",
              "        const charts = await google.colab.kernel.invokeFunction(\n",
              "            'suggestCharts', [key], {});\n",
              "      } catch (error) {\n",
              "        console.error('Error during call to suggestCharts:', error);\n",
              "      }\n",
              "      quickchartButtonEl.classList.remove('colab-df-spinner');\n",
              "      quickchartButtonEl.classList.add('colab-df-quickchart-complete');\n",
              "    }\n",
              "    (() => {\n",
              "      let quickchartButtonEl =\n",
              "        document.querySelector('#df-5074644c-57c9-41f4-b23a-93a19438c377 button');\n",
              "      quickchartButtonEl.style.display =\n",
              "        google.colab.kernel.accessAllowed ? 'block' : 'none';\n",
              "    })();\n",
              "  </script>\n",
              "</div>\n",
              "\n",
              "    </div>\n",
              "  </div>\n"
            ],
            "application/vnd.google.colaboratory.intrinsic+json": {
              "type": "dataframe",
              "variable_name": "df",
              "summary": "{\n  \"name\": \"df\",\n  \"rows\": 3849,\n  \"fields\": [\n    {\n      \"column\": [\n        \"Date\",\n        \"\"\n      ],\n      \"properties\": {\n        \"dtype\": \"date\",\n        \"min\": \"2010-01-04 00:00:00\",\n        \"max\": \"2025-04-22 00:00:00\",\n        \"num_unique_values\": 3849,\n        \"samples\": [\n          \"2012-12-28 00:00:00\",\n          \"2010-09-27 00:00:00\",\n          \"2015-07-31 00:00:00\"\n        ],\n        \"semantic_type\": \"\",\n        \"description\": \"\"\n      }\n    },\n    {\n      \"column\": [\n        \"Close\",\n        \"AAPL\"\n      ],\n      \"properties\": {\n        \"dtype\": \"number\",\n        \"std\": 68.54628688788647,\n        \"min\": 5.779476642608643,\n        \"max\": 258.7355041503906,\n        \"num_unique_values\": 3797,\n        \"samples\": [\n          10.432546615600586,\n          146.68190002441406,\n          28.425016403198242\n        ],\n        \"semantic_type\": \"\",\n        \"description\": \"\"\n      }\n    },\n    {\n      \"column\": [\n        \"High\",\n        \"AAPL\"\n      ],\n      \"properties\": {\n        \"dtype\": \"number\",\n        \"std\": 69.22768562018389,\n        \"min\": 5.898344820199544,\n        \"max\": 259.81433504408284,\n        \"num_unique_values\": 3849,\n        \"samples\": [\n          15.620049278716795,\n          8.86948633822167,\n          27.503309015112233\n        ],\n        \"semantic_type\": \"\",\n        \"description\": \"\"\n      }\n    },\n    {\n      \"column\": [\n        \"Low\",\n        \"AAPL\"\n      ],\n      \"properties\": {\n        \"dtype\": \"number\",\n        \"std\": 67.7764540431869,\n        \"min\": 5.725306646729277,\n        \"max\": 257.34704665632455,\n        \"num_unique_values\": 3849,\n        \"samples\": [\n          15.426953116113543,\n          8.757538794326294,\n          27.11533928805639\n        ],\n        \"semantic_type\": \"\",\n        \"description\": \"\"\n      }\n    },\n    {\n      \"column\": [\n        \"Open\",\n        \"AAPL\"\n      ],\n      \"properties\": {\n        \"dtype\": \"number\",\n        \"std\": 68.46395532844535,\n        \"min\": 5.789105111892288,\n        \"max\": 257.90642916266114,\n        \"num_unique_values\": 3849,\n        \"samples\": [\n          15.492837256336887,\n          8.846916826213592,\n          27.494338389328547\n        ],\n        \"semantic_type\": \"\",\n        \"description\": \"\"\n      }\n    },\n    {\n      \"column\": [\n        \"Volume\",\n        \"AAPL\"\n      ],\n      \"properties\": {\n        \"dtype\": \"number\",\n        \"std\": 217244540,\n        \"min\": 23234700,\n        \"max\": 1880998000,\n        \"num_unique_values\": 3840,\n        \"samples\": [\n          449369200,\n          51334300,\n          88194300\n        ],\n        \"semantic_type\": \"\",\n        \"description\": \"\"\n      }\n    }\n  ]\n}"
            }
          },
          "metadata": {},
          "execution_count": 18
        }
      ],
      "source": [
        "# Cell 3: Prompt for Ticker & Download Data\n",
        "ticker = input(\"Enter the stock ticker (e.g. AAPL, TSLA): \").upper().strip()\n",
        "start  = \"2010-01-01\"\n",
        "end    = \"2025-04-23\"\n",
        "\n",
        "df = yf.download(ticker, start=start, end=end)\n",
        "if df.empty:\n",
        "    raise ValueError(f\"No data found for ticker '{ticker}'. Please rerun and try another.\")\n",
        "\n",
        "print(f\"Downloaded {len(df)} rows for {ticker}\")\n",
        "df.head()\n"
      ]
    },
    {
      "cell_type": "code",
      "execution_count": 19,
      "metadata": {
        "colab": {
          "base_uri": "https://localhost:8080/"
        },
        "id": "q-aUKoS2iFXa",
        "outputId": "c131a311-a2ce-4360-ebd8-5deb774d3fbc"
      },
      "outputs": [
        {
          "output_type": "stream",
          "name": "stdout",
          "text": [
            "X shape: (3819, 30, 1) y shape: (3819,)\n"
          ]
        }
      ],
      "source": [
        "# Cell 4: Scale 'Close' & Create Sequences\n",
        "# 1) Extract Close\n",
        "close_series = df['Close'].values.reshape(-1,1)\n",
        "\n",
        "# 2) Scale to [0,1]\n",
        "scaler     = MinMaxScaler(feature_range=(0,1))\n",
        "scaled     = scaler.fit_transform(close_series).flatten()\n",
        "data_min   = scaler.data_min_[0]\n",
        "data_max   = scaler.data_max_[0]\n",
        "\n",
        "# 3) Sequence creation\n",
        "SEQ_LEN = 30\n",
        "X, y = [], []\n",
        "for i in range(SEQ_LEN, len(scaled)):\n",
        "    X.append(scaled[i-SEQ_LEN:i])\n",
        "    y.append(scaled[i])\n",
        "X = np.array(X).reshape(-1, SEQ_LEN, 1)\n",
        "y = np.array(y)\n",
        "print(\"X shape:\", X.shape, \"y shape:\", y.shape)\n"
      ]
    },
    {
      "cell_type": "code",
      "execution_count": 20,
      "metadata": {
        "colab": {
          "base_uri": "https://localhost:8080/"
        },
        "id": "QNJ5ammjiQKm",
        "outputId": "fe2a57f3-6d63-43c5-ecc7-8855370bfab1"
      },
      "outputs": [
        {
          "output_type": "stream",
          "name": "stdout",
          "text": [
            "Train: (3055, 30, 1) Val: (381, 30, 1) Test: (383, 30, 1)\n"
          ]
        }
      ],
      "source": [
        "# Cell 5: 80/10/10 Train/Val/Test Split\n",
        "n        = len(X)\n",
        "n_train  = int(0.8 * n)\n",
        "n_val    = int(0.1 * n)\n",
        "\n",
        "X_train, y_train = X[:n_train], y[:n_train]\n",
        "X_val,   y_val   = X[n_train:n_train+n_val], y[n_train:n_train+n_val]\n",
        "X_test,  y_test  = X[n_train+n_val:], y[n_train+n_val:]\n",
        "\n",
        "print(\"Train:\", X_train.shape, \"Val:\", X_val.shape, \"Test:\", X_test.shape)\n"
      ]
    },
    {
      "cell_type": "code",
      "execution_count": 22,
      "metadata": {
        "colab": {
          "base_uri": "https://localhost:8080/"
        },
        "id": "s1hpq0TGjasS",
        "outputId": "28ec2152-eec7-4339-f646-dfc98947cc2a"
      },
      "outputs": [
        {
          "output_type": "stream",
          "name": "stdout",
          "text": [
            "Trial 10 Complete [00h 01m 15s]\n",
            "val_loss: 0.0906965583562851\n",
            "\n",
            "Best val_loss So Far: 0.0011070731561630964\n",
            "Total elapsed time: 00h 14m 20s\n",
            "Best Hyperparameters:\n",
            " • units: 32\n",
            " • dropout: 0.1\n",
            " • rec_dropout: 0.30000000000000004\n",
            " • post_dropout: 0.1\n",
            " • lr: 0.0070178386117091705\n"
          ]
        }
      ],
      "source": [
        "# Cell 6: Hyperparameter Tuning (reset per ticker) + fixed LSTM stacking + single optimizer\n",
        "import shutil\n",
        "import tensorflow as tf\n",
        "from kerastuner.tuners import RandomSearch\n",
        "\n",
        "# 1) Clear previous Keras state\n",
        "tf.keras.backend.clear_session()\n",
        "\n",
        "# 2) Remove old tuner directory\n",
        "shutil.rmtree('tuner_dir', ignore_errors=True)\n",
        "\n",
        "# 3) Define model builder: 2-layer LSTM, first returns sequences, always RMSprop\n",
        "def build_model(hp):\n",
        "    units = hp.Int('units', 32, 128, step=16)\n",
        "    drop  = hp.Float('dropout', .1, .5, step=.1)\n",
        "    recdp = hp.Float('rec_dropout', .1, .5, step=.1)\n",
        "    post  = hp.Float('post_dropout', .1, .5, step=.1)\n",
        "    lr    = hp.Float('lr', 1e-4, 1e-2, sampling='log')\n",
        "\n",
        "    model = Sequential([\n",
        "        # first LSTM must return sequences for stacking\n",
        "        LSTM(units,\n",
        "             return_sequences=True,\n",
        "             input_shape=(SEQ_LEN,1),\n",
        "             dropout=drop,\n",
        "             recurrent_dropout=recdp),\n",
        "        Dropout(post),\n",
        "\n",
        "        # second LSTM (no return_sequences)\n",
        "        LSTM(units,\n",
        "             return_sequences=False,\n",
        "             dropout=drop,\n",
        "             recurrent_dropout=recdp),\n",
        "        Dropout(post),\n",
        "\n",
        "        Dense(1, activation='linear')\n",
        "    ])\n",
        "\n",
        "    # always use RMSprop\n",
        "    model.compile(\n",
        "        optimizer=RMSprop(learning_rate=lr),\n",
        "        loss='mse'\n",
        "    )\n",
        "    return model\n",
        "\n",
        "# 4) Instantiate tuner (overwrite old trials)\n",
        "tuner = RandomSearch(\n",
        "    build_model,\n",
        "    objective='val_loss',\n",
        "    max_trials=10,\n",
        "    executions_per_trial=1,\n",
        "    directory='tuner_dir',\n",
        "    project_name=f'{ticker}_tuning',\n",
        "    overwrite=True\n",
        ")\n",
        "\n",
        "# 5) Run hyperparameter search\n",
        "tuner.search(\n",
        "    X_train, y_train,\n",
        "    epochs=10,\n",
        "    validation_data=(X_val, y_val),\n",
        "    callbacks=[EarlyStopping(monitor='val_loss', patience=3)]\n",
        ")\n",
        "\n",
        "# 6) Display best HPs\n",
        "best_hps = tuner.get_best_hyperparameters(1)[0]\n",
        "print(\"Best Hyperparameters:\")\n",
        "for p in ['units','dropout','rec_dropout','post_dropout','lr']:\n",
        "    print(f\" • {p}: {best_hps.get(p)}\")\n"
      ]
    },
    {
      "cell_type": "code",
      "execution_count": 24,
      "metadata": {
        "colab": {
          "base_uri": "https://localhost:8080/"
        },
        "id": "tRX5F2AXjdok",
        "outputId": "c059efa2-4595-4ab6-e117-af5a93c46162"
      },
      "outputs": [
        {
          "output_type": "stream",
          "name": "stdout",
          "text": [
            "Epoch 1/50\n",
            "96/96 - 15s - 159ms/step - loss: 0.0084 - val_loss: 7.0239e-04 - learning_rate: 0.0070\n",
            "Epoch 2/50\n",
            "96/96 - 5s - 50ms/step - loss: 0.0058 - val_loss: 7.3680e-04 - learning_rate: 0.0070\n",
            "Epoch 3/50\n",
            "96/96 - 6s - 67ms/step - loss: 0.0061 - val_loss: 0.0095 - learning_rate: 0.0070\n",
            "Epoch 4/50\n",
            "96/96 - 5s - 50ms/step - loss: 0.0065 - val_loss: 0.0034 - learning_rate: 0.0070\n",
            "Epoch 5/50\n",
            "96/96 - 6s - 58ms/step - loss: 0.0048 - val_loss: 0.0030 - learning_rate: 0.0035\n",
            "Epoch 6/50\n",
            "96/96 - 10s - 103ms/step - loss: 0.0046 - val_loss: 0.0094 - learning_rate: 0.0035\n",
            "Epoch 7/50\n",
            "96/96 - 6s - 67ms/step - loss: 0.0047 - val_loss: 0.0074 - learning_rate: 0.0035\n",
            "Epoch 8/50\n",
            "96/96 - 9s - 93ms/step - loss: 0.0044 - val_loss: 0.0023 - learning_rate: 0.0018\n",
            "Epoch 9/50\n",
            "96/96 - 10s - 101ms/step - loss: 0.0044 - val_loss: 0.0056 - learning_rate: 0.0018\n",
            "Epoch 10/50\n",
            "96/96 - 7s - 68ms/step - loss: 0.0044 - val_loss: 0.0101 - learning_rate: 0.0018\n",
            "Epoch 11/50\n",
            "96/96 - 5s - 49ms/step - loss: 0.0044 - val_loss: 0.0031 - learning_rate: 8.7723e-04\n"
          ]
        }
      ],
      "source": [
        "# Cell 7: Train Final Model with Best Hyperparams\n",
        "hp = best_hps\n",
        "model = build_model(hp)  # rebuild with best_hps\n",
        "\n",
        "callbacks = [\n",
        "    EarlyStopping(monitor='val_loss', patience=10, restore_best_weights=True),\n",
        "    ReduceLROnPlateau(monitor='val_loss', factor=0.5, patience=3)\n",
        "]\n",
        "\n",
        "history = model.fit(\n",
        "    X_train, y_train,\n",
        "    validation_data=(X_val, y_val),\n",
        "    epochs=50,\n",
        "    batch_size=32,\n",
        "    callbacks=callbacks,\n",
        "    verbose=2\n",
        ")\n"
      ]
    },
    {
      "cell_type": "code",
      "execution_count": 25,
      "metadata": {
        "colab": {
          "base_uri": "https://localhost:8080/",
          "height": 507
        },
        "id": "pVK09YYsmAEx",
        "outputId": "8aec0d13-2bcc-47e3-94e4-e5f12a8c5d34"
      },
      "outputs": [
        {
          "output_type": "stream",
          "name": "stdout",
          "text": [
            "\u001b[1m12/12\u001b[0m \u001b[32m━━━━━━━━━━━━━━━━━━━━\u001b[0m\u001b[37m\u001b[0m \u001b[1m2s\u001b[0m 84ms/step\n",
            "Test MSE: 56.4680\n"
          ]
        },
        {
          "output_type": "display_data",
          "data": {
            "text/plain": [
              "<Figure size 640x480 with 1 Axes>"
            ],
            "image/png": "[encoded data removed]"
          },
          "metadata": {}
        }
      ],
      "source": [
        "# Cell 8: Evaluate on Test Set & Plot\n",
        "# Predict (scaled)\n",
        "pred_scaled = model.predict(X_test).flatten()\n",
        "\n",
        "# Inverse scale\n",
        "true = y_test * (data_max - data_min) + data_min\n",
        "pred = pred_scaled * (data_max - data_min) + data_min\n",
        "\n",
        "# Compute & print MSE\n",
        "mse = mean_squared_error(true, pred)\n",
        "print(f\"Test MSE: {mse:.4f}\")\n",
        "\n",
        "# Plot\n",
        "plt.figure()\n",
        "plt.plot(true, label='True Close')\n",
        "plt.plot(pred, label='Predicted Close')\n",
        "plt.title(f'{ticker} — True vs Predicted Close')\n",
        "plt.xlabel('Sample')\n",
        "plt.ylabel('Price (USD)')\n",
        "plt.legend()\n",
        "plt.show()\n"
      ]
    },
    {
      "cell_type": "code",
      "execution_count": 26,
      "metadata": {
        "colab": {
          "base_uri": "https://localhost:8080/"
        },
        "id": "Fm2iklBTSuC_",
        "outputId": "a2355ec2-5590-47d1-9eec-303bf244211c"
      },
      "outputs": [
        {
          "output_type": "stream",
          "name": "stdout",
          "text": [
            "Enter number of days to forecast: 3\n",
            "\u001b[1m1/1\u001b[0m \u001b[32m━━━━━━━━━━━━━━━━━━━━\u001b[0m\u001b[37m\u001b[0m \u001b[1m0s\u001b[0m 46ms/step\n",
            "\u001b[1m1/1\u001b[0m \u001b[32m━━━━━━━━━━━━━━━━━━━━\u001b[0m\u001b[37m\u001b[0m \u001b[1m0s\u001b[0m 46ms/step\n",
            "\u001b[1m1/1\u001b[0m \u001b[32m━━━━━━━━━━━━━━━━━━━━\u001b[0m\u001b[37m\u001b[0m \u001b[1m0s\u001b[0m 48ms/step\n",
            "Day +1 forecast: $199.97\n",
            "Day +2 forecast: $200.05\n",
            "Day +3 forecast: $200.23\n"
          ]
        }
      ],
      "source": [
        "# Cell 9: N-Day-Ahead Recursive Forecast\n",
        "n_days = int(input(\"Enter number of days to forecast: \"))\n",
        "forecast_seq = scaled[-SEQ_LEN:].copy()\n",
        "forecasts = []\n",
        "\n",
        "for _ in range(n_days):\n",
        "    nxt = model.predict(forecast_seq.reshape(1,SEQ_LEN,1)).flatten()[0]\n",
        "    forecasts.append(nxt)\n",
        "    forecast_seq = np.append(forecast_seq[1:], nxt)\n",
        "\n",
        "# Inverse scale & display\n",
        "forecasts_uv = [f*(data_max-data_min)+data_min for f in forecasts]\n",
        "for i, val in enumerate(forecasts_uv, start=1):\n",
        "    print(f\"Day +{i} forecast: ${val:.2f}\")\n"
      ]
    },
    {
      "cell_type": "code",
      "execution_count": 27,
      "metadata": {
        "colab": {
          "base_uri": "https://localhost:8080/"
        },
        "id": "H8EOUDvXmcXz",
        "outputId": "7a92c3bc-6b21-47c1-9ca7-ce4659368cfa"
      },
      "outputs": [
        {
          "output_type": "stream",
          "name": "stdout",
          "text": [
            "Saved model to lstm_model.keras and scaler to models/close_scaler.save\n"
          ]
        }
      ],
      "source": [
        "# Cell 10: Save Model & Scaler\n",
        "model.save('lstm_model.keras')\n",
        "import joblib, os\n",
        "os.makedirs('models', exist_ok=True)\n",
        "joblib.dump(scaler, 'models/close_scaler.save')\n",
        "print(\"Saved model to lstm_model.keras and scaler to models/close_scaler.save\")\n"
      ]
    }
  ],
  "metadata": {
    "colab": {
      "provenance": [],
      "authorship_tag": "ABX9TyPBJVCfHCsGRqhdEjBmpOQ8",
      "include_colab_link": true
    },
    "kernelspec": {
      "display_name": "Python 3",
      "name": "python3"
    },
    "language_info": {
      "name": "python"
    }
  },
  "nbformat": 4,
  "nbformat_minor": 0
}