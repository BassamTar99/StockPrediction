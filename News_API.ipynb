{
  "nbformat": 4,
  "nbformat_minor": 0,
  "metadata": {
    "colab": {
      "provenance": [],
      "authorship_tag": "ABX9TyNTReKw1hUND8cdGOsprcW0",
      "include_colab_link": true
    },
    "kernelspec": {
      "name": "python3",
      "display_name": "Python 3"
    },
    "language_info": {
      "name": "python"
    }
  },
  "cells": [
    {
      "cell_type": "markdown",
      "metadata": {
        "id": "view-in-github",
        "colab_type": "text"
      },
      "source": [
        "<a href=\"https://colab.research.google.com/github/BassamTar99/StockPrediction/blob/News_Impact_Model/News_API.ipynb\" target=\"_parent\"><img src=\"https://colab.research.google.com/assets/colab-badge.svg\" alt=\"Open In Colab\"/></a>"
      ]
    },
    {
      "cell_type": "code",
      "execution_count": 5,
      "metadata": {
        "colab": {
          "base_uri": "https://localhost:8080/"
        },
        "id": "Fz0r6O9zSfpZ",
        "outputId": "ee4b5360-3fbe-4e85-e73f-5af90e20cca4"
      },
      "outputs": [
        {
          "output_type": "stream",
          "name": "stdout",
          "text": [
            "Requirement already satisfied: newsapi-python in /usr/local/lib/python3.11/dist-packages (0.2.7)\n",
            "Requirement already satisfied: transformers in /usr/local/lib/python3.11/dist-packages (4.51.3)\n",
            "Requirement already satisfied: torch in /usr/local/lib/python3.11/dist-packages (2.6.0+cu124)\n",
            "Requirement already satisfied: requests<3.0.0 in /usr/local/lib/python3.11/dist-packages (from newsapi-python) (2.32.3)\n",
            "Requirement already satisfied: filelock in /usr/local/lib/python3.11/dist-packages (from transformers) (3.18.0)\n",
            "Requirement already satisfied: huggingface-hub<1.0,>=0.30.0 in /usr/local/lib/python3.11/dist-packages (from transformers) (0.30.2)\n",
            "Requirement already satisfied: numpy>=1.17 in /usr/local/lib/python3.11/dist-packages (from transformers) (2.0.2)\n",
            "Requirement already satisfied: packaging>=20.0 in /usr/local/lib/python3.11/dist-packages (from transformers) (24.2)\n",
            "Requirement already satisfied: pyyaml>=5.1 in /usr/local/lib/python3.11/dist-packages (from transformers) (6.0.2)\n",
            "Requirement already satisfied: regex!=2019.12.17 in /usr/local/lib/python3.11/dist-packages (from transformers) (2024.11.6)\n",
            "Requirement already satisfied: tokenizers<0.22,>=0.21 in /usr/local/lib/python3.11/dist-packages (from transformers) (0.21.1)\n",
            "Requirement already satisfied: safetensors>=0.4.3 in /usr/local/lib/python3.11/dist-packages (from transformers) (0.5.3)\n",
            "Requirement already satisfied: tqdm>=4.27 in /usr/local/lib/python3.11/dist-packages (from transformers) (4.67.1)\n",
            "Requirement already satisfied: typing-extensions>=4.10.0 in /usr/local/lib/python3.11/dist-packages (from torch) (4.13.2)\n",
            "Requirement already satisfied: networkx in /usr/local/lib/python3.11/dist-packages (from torch) (3.4.2)\n",
            "Requirement already satisfied: jinja2 in /usr/local/lib/python3.11/dist-packages (from torch) (3.1.6)\n",
            "Requirement already satisfied: fsspec in /usr/local/lib/python3.11/dist-packages (from torch) (2025.3.2)\n",
            "Requirement already satisfied: nvidia-cuda-nvrtc-cu12==12.4.127 in /usr/local/lib/python3.11/dist-packages (from torch) (12.4.127)\n",
            "Requirement already satisfied: nvidia-cuda-runtime-cu12==12.4.127 in /usr/local/lib/python3.11/dist-packages (from torch) (12.4.127)\n",
            "Requirement already satisfied: nvidia-cuda-cupti-cu12==12.4.127 in /usr/local/lib/python3.11/dist-packages (from torch) (12.4.127)\n",
            "Requirement already satisfied: nvidia-cudnn-cu12==9.1.0.70 in /usr/local/lib/python3.11/dist-packages (from torch) (9.1.0.70)\n",
            "Requirement already satisfied: nvidia-cublas-cu12==12.4.5.8 in /usr/local/lib/python3.11/dist-packages (from torch) (12.4.5.8)\n",
            "Requirement already satisfied: nvidia-cufft-cu12==11.2.1.3 in /usr/local/lib/python3.11/dist-packages (from torch) (11.2.1.3)\n",
            "Requirement already satisfied: nvidia-curand-cu12==10.3.5.147 in /usr/local/lib/python3.11/dist-packages (from torch) (10.3.5.147)\n",
            "Requirement already satisfied: nvidia-cusolver-cu12==11.6.1.9 in /usr/local/lib/python3.11/dist-packages (from torch) (11.6.1.9)\n",
            "Requirement already satisfied: nvidia-cusparse-cu12==12.3.1.170 in /usr/local/lib/python3.11/dist-packages (from torch) (12.3.1.170)\n",
            "Requirement already satisfied: nvidia-cusparselt-cu12==0.6.2 in /usr/local/lib/python3.11/dist-packages (from torch) (0.6.2)\n",
            "Requirement already satisfied: nvidia-nccl-cu12==2.21.5 in /usr/local/lib/python3.11/dist-packages (from torch) (2.21.5)\n",
            "Requirement already satisfied: nvidia-nvtx-cu12==12.4.127 in /usr/local/lib/python3.11/dist-packages (from torch) (12.4.127)\n",
            "Requirement already satisfied: nvidia-nvjitlink-cu12==12.4.127 in /usr/local/lib/python3.11/dist-packages (from torch) (12.4.127)\n",
            "Requirement already satisfied: triton==3.2.0 in /usr/local/lib/python3.11/dist-packages (from torch) (3.2.0)\n",
            "Requirement already satisfied: sympy==1.13.1 in /usr/local/lib/python3.11/dist-packages (from torch) (1.13.1)\n",
            "Requirement already satisfied: mpmath<1.4,>=1.1.0 in /usr/local/lib/python3.11/dist-packages (from sympy==1.13.1->torch) (1.3.0)\n",
            "Requirement already satisfied: charset-normalizer<4,>=2 in /usr/local/lib/python3.11/dist-packages (from requests<3.0.0->newsapi-python) (3.4.1)\n",
            "Requirement already satisfied: idna<4,>=2.5 in /usr/local/lib/python3.11/dist-packages (from requests<3.0.0->newsapi-python) (3.10)\n",
            "Requirement already satisfied: urllib3<3,>=1.21.1 in /usr/local/lib/python3.11/dist-packages (from requests<3.0.0->newsapi-python) (2.3.0)\n",
            "Requirement already satisfied: certifi>=2017.4.17 in /usr/local/lib/python3.11/dist-packages (from requests<3.0.0->newsapi-python) (2025.1.31)\n",
            "Requirement already satisfied: MarkupSafe>=2.0 in /usr/local/lib/python3.11/dist-packages (from jinja2->torch) (3.0.2)\n"
          ]
        }
      ],
      "source": [
        "!pip install newsapi-python transformers torch\n"
      ]
    },
    {
      "cell_type": "code",
      "source": [
        "import pandas as pd\n",
        "import datetime\n",
        "from newsapi import NewsApiClient\n",
        "from transformers import AutoTokenizer, AutoModelForSequenceClassification\n",
        "import torch\n",
        "import numpy as np\n",
        "\n",
        "class FinBERTNewsAnalyzer:\n",
        "    def __init__(self, api_key):\n",
        "        self.newsapi = NewsApiClient(api_key=api_key)\n",
        "        self.tokenizer = AutoTokenizer.from_pretrained(\"ProsusAI/finbert\")\n",
        "        self.model = AutoModelForSequenceClassification.from_pretrained(\"ProsusAI/finbert\")\n",
        "\n",
        "    def analyze_text(self, text):\n",
        "        inputs = self.tokenizer(text, return_tensors=\"pt\", truncation=True, max_length=512)\n",
        "        outputs = self.model(**inputs)\n",
        "        predictions = torch.nn.functional.softmax(outputs.logits, dim=-1)\n",
        "        return {\n",
        "            'positive': predictions[0][0].item(),\n",
        "            'negative': predictions[0][1].item(),\n",
        "            'neutral': predictions[0][2].item()\n",
        "        }\n",
        "\n",
        "    def get_stock_news(self, ticker, days=7):\n",
        "        today = datetime.date.today()\n",
        "        start_date = today - datetime.timedelta(days=days)\n",
        "\n",
        "        articles = self.newsapi.get_everything(\n",
        "            q=ticker,\n",
        "            from_param=start_date.isoformat(),\n",
        "            to=today.isoformat(),\n",
        "            language='en',\n",
        "            sort_by='relevancy',\n",
        "            page_size=100\n",
        "        )\n",
        "\n",
        "        data = []\n",
        "        for article in articles['articles']:\n",
        "            headline = article['title']\n",
        "            date = article['publishedAt'][:10]\n",
        "            description = article.get('description', '')\n",
        "            text = f\"{headline}. {description}\"\n",
        "            sentiment_scores = self.analyze_text(text)\n",
        "            dominant_sentiment = max(sentiment_scores.items(), key=lambda x: x[1])[0]\n",
        "\n",
        "            data.append({\n",
        "                'date': date,\n",
        "                'headline': headline,\n",
        "                'description': description,\n",
        "                'url': article['url'],\n",
        "                'sentiment': dominant_sentiment,\n",
        "                'confidence': sentiment_scores[dominant_sentiment],\n",
        "                'positive_score': sentiment_scores['positive'],\n",
        "                'negative_score': sentiment_scores['negative'],\n",
        "                'neutral_score': sentiment_scores['neutral']\n",
        "            })\n",
        "\n",
        "        if not data:\n",
        "            print(\"No news found.\")\n",
        "            return pd.DataFrame(), pd.DataFrame()\n",
        "\n",
        "        df = pd.DataFrame(data)\n",
        "\n",
        "        daily = df.groupby('date').agg({\n",
        "            'positive_score': 'mean',\n",
        "            'negative_score': 'mean',\n",
        "            'neutral_score': 'mean',\n",
        "            'confidence': 'mean'\n",
        "        }).reset_index()\n",
        "\n",
        "        def get_daily_sentiment(row):\n",
        "            scores = {\n",
        "                'positive': row['positive_score'],\n",
        "                'negative': row['negative_score'],\n",
        "                'neutral': row['neutral_score']\n",
        "            }\n",
        "            return max(scores.items(), key=lambda x: x[1])[0]\n",
        "\n",
        "        daily['sentiment'] = daily.apply(get_daily_sentiment, axis=1)\n",
        "        return daily, df\n",
        "\n",
        "    def get_sentiment_summary(self, ticker, days=7):\n",
        "        daily_sentiment, detailed_news = self.get_stock_news(ticker, days)\n",
        "\n",
        "        if daily_sentiment.empty:\n",
        "            return \"No news found for this period.\"\n",
        "\n",
        "        summary = {\n",
        "            'overall_sentiment': daily_sentiment['sentiment'].mode()[0],\n",
        "            'average_confidence': daily_sentiment['confidence'].mean(),\n",
        "            'positive_days': (daily_sentiment['sentiment'] == 'positive').sum(),\n",
        "            'negative_days': (daily_sentiment['sentiment'] == 'negative').sum(),\n",
        "            'neutral_days': (daily_sentiment['sentiment'] == 'neutral').sum(),\n",
        "            'most_recent_news': detailed_news.sort_values('date', ascending=False).head(3)\n",
        "        }\n",
        "\n",
        "        return summary\n"
      ],
      "metadata": {
        "id": "LAXni2rmTa-r"
      },
      "execution_count": 6,
      "outputs": []
    },
    {
      "cell_type": "code",
      "source": [
        "# Initialize the analyzer (with your real API key)\n",
        "analyzer = FinBERTNewsAnalyzer(api_key='e85a418d537146af9e862d574bd651d9')\n",
        "\n",
        "# Run sentiment analysis for a stock\n",
        "daily_sentiment, detailed_news = analyzer.get_stock_news(\"AMZN\", days=3)\n",
        "\n",
        "# Show daily summary\n",
        "print(\"\\n📊 Daily Sentiment Summary:\")\n",
        "print(daily_sentiment)\n",
        "\n",
        "# Show headline-level analysis\n",
        "print(\"\\n📰 Detailed News:\")\n",
        "print(detailed_news[['date', 'headline', 'sentiment', 'confidence']])\n"
      ],
      "metadata": {
        "colab": {
          "base_uri": "https://localhost:8080/"
        },
        "id": "-fjj0AjnUeo8",
        "outputId": "8ab8e168-3527-41bf-db05-3989b27ddb69"
      },
      "execution_count": 9,
      "outputs": [
        {
          "output_type": "stream",
          "name": "stdout",
          "text": [
            "\n",
            "📊 Daily Sentiment Summary:\n",
            "         date  positive_score  negative_score  neutral_score  confidence  \\\n",
            "0  2025-04-22        0.359049        0.281354       0.359598    0.870460   \n",
            "1  2025-04-23        0.312760        0.300970       0.386270    0.875238   \n",
            "2  2025-04-24        0.521580        0.277604       0.200816    0.889780   \n",
            "\n",
            "  sentiment  \n",
            "0   neutral  \n",
            "1   neutral  \n",
            "2  positive  \n",
            "\n",
            "📰 Detailed News:\n",
            "          date                                           headline sentiment  \\\n",
            "0   2025-04-24                  What’s Happening With AMZN Stock?  negative   \n",
            "1   2025-04-24        AI budgets stay hot even as tech gets weird  positive   \n",
            "2   2025-04-23  Is Amazon.com, Inc. (AMZN) the Best Stock to B...   neutral   \n",
            "3   2025-04-23  Is Amazon.com, Inc. (AMZN) the Best Nancy Pelo...   neutral   \n",
            "4   2025-04-23  AMZN Poised to Benefit from Market Share Gains...  positive   \n",
            "..         ...                                                ...       ...   \n",
            "56  2025-04-23  The buying opportunity of a lifetime is coming...  negative   \n",
            "57  2025-04-22  US Stock Market Today: Market rallies as Dow j...  positive   \n",
            "58  2025-04-23  Raymond James Reaffirms “Outperform” Rating fo...  positive   \n",
            "59  2025-04-24  Jefferies Financial Group Issues Pessimistic F...  negative   \n",
            "60  2025-04-23  Stocks soar: Here are the reasons why Dow Jone...  positive   \n",
            "\n",
            "    confidence  \n",
            "0     0.897092  \n",
            "1     0.577139  \n",
            "2     0.865755  \n",
            "3     0.884723  \n",
            "4     0.950557  \n",
            "..         ...  \n",
            "56    0.949625  \n",
            "57    0.914530  \n",
            "58    0.541872  \n",
            "59    0.955581  \n",
            "60    0.915040  \n",
            "\n",
            "[61 rows x 4 columns]\n"
          ]
        }
      ]
    },
    {
      "cell_type": "code",
      "source": [
        "summary = analyzer.get_sentiment_summary(\"AMZN\", days=3)\n",
        "\n",
        "print(\"\\n🧠 Sentiment Summary:\")\n",
        "print(f\"Overall Sentiment: {summary['overall_sentiment']}\")\n",
        "print(f\"Avg. Confidence: {summary['average_confidence']:.2f}\")\n",
        "print(f\"Positive Days: {summary['positive_days']}\")\n",
        "print(f\"Negative Days: {summary['negative_days']}\")\n",
        "print(f\"Neutral Days: {summary['neutral_days']}\")\n",
        "print(\"\\n🗞️ Most Recent News:\")\n",
        "print(summary['most_recent_news'][['date', 'headline', 'sentiment']])\n"
      ],
      "metadata": {
        "colab": {
          "base_uri": "https://localhost:8080/"
        },
        "id": "oTzY9lZkVqED",
        "outputId": "94f7b470-f840-49f3-90de-f5fee98442ee"
      },
      "execution_count": 10,
      "outputs": [
        {
          "output_type": "stream",
          "name": "stdout",
          "text": [
            "\n",
            "🧠 Sentiment Summary:\n",
            "Overall Sentiment: neutral\n",
            "Avg. Confidence: 0.88\n",
            "Positive Days: 1\n",
            "Negative Days: 0\n",
            "Neutral Days: 2\n",
            "\n",
            "🗞️ Most Recent News:\n",
            "          date                                           headline sentiment\n",
            "0   2025-04-24                  What’s Happening With AMZN Stock?  negative\n",
            "47  2025-04-24  Community Bank N.A. Increases Position in Amaz...  positive\n",
            "1   2025-04-24        AI budgets stay hot even as tech gets weird  positive\n"
          ]
        }
      ]
    }
  ]
}